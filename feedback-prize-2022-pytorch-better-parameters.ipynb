{
 "cells": [
  {
   "cell_type": "markdown",
   "id": "e32579a2",
   "metadata": {
    "_cell_guid": "e0e4bdf6-bcd9-4f82-a53b-9c5f685500a8",
    "_uuid": "66c995cf-7cbb-421b-bdd3-24906f5fb886",
    "execution": {
     "iopub.execute_input": "2022-01-05T18:19:34.766525Z",
     "iopub.status.busy": "2022-01-05T18:19:34.765636Z",
     "iopub.status.idle": "2022-01-05T18:19:43.074135Z",
     "shell.execute_reply": "2022-01-05T18:19:43.072934Z",
     "shell.execute_reply.started": "2022-01-05T18:19:34.76641Z"
    },
    "jupyter": {
     "outputs_hidden": false
    },
    "papermill": {
     "duration": 0.012696,
     "end_time": "2022-03-07T01:26:01.531348",
     "exception": false,
     "start_time": "2022-03-07T01:26:01.518652",
     "status": "completed"
    },
    "tags": []
   },
   "source": [
    "# Welcome back !\n",
    "\n",
    "Inspired from [this notebook](https://www.kaggle.com/fxalll/0-690-try-better-parameters)"
   ]
  },
  {
   "cell_type": "markdown",
   "id": "71c4ab0c",
   "metadata": {
    "papermill": {
     "duration": 0.010264,
     "end_time": "2022-03-07T01:26:01.554026",
     "exception": false,
     "start_time": "2022-03-07T01:26:01.543762",
     "status": "completed"
    },
    "tags": []
   },
   "source": [
    "Import Librairie"
   ]
  },
  {
   "cell_type": "code",
   "execution_count": 1,
   "id": "ef18dda0",
   "metadata": {
    "execution": {
     "iopub.execute_input": "2022-03-07T01:26:01.591013Z",
     "iopub.status.busy": "2022-03-07T01:26:01.589994Z",
     "iopub.status.idle": "2022-03-07T01:26:08.544809Z",
     "shell.execute_reply": "2022-03-07T01:26:08.543871Z",
     "shell.execute_reply.started": "2022-03-07T01:22:02.329199Z"
    },
    "papermill": {
     "duration": 6.979602,
     "end_time": "2022-03-07T01:26:08.545041",
     "exception": false,
     "start_time": "2022-03-07T01:26:01.565439",
     "status": "completed"
    },
    "tags": []
   },
   "outputs": [],
   "source": [
    "import gc\n",
    "gc.enable()\n",
    "\n",
    "import sys\n",
    "sys.path.append(\"../input/tez-lib/\")\n",
    "\n",
    "import os\n",
    "\n",
    "import numpy as np\n",
    "import pandas as pd\n",
    "import tez\n",
    "import torch\n",
    "import torch.nn as nn\n",
    "from joblib import Parallel, delayed\n",
    "from transformers import AutoConfig, AutoModel, AutoTokenizer"
   ]
  },
  {
   "cell_type": "code",
   "execution_count": 2,
   "id": "d2cfcbef",
   "metadata": {
    "execution": {
     "iopub.execute_input": "2022-03-07T01:26:08.588648Z",
     "iopub.status.busy": "2022-03-07T01:26:08.587926Z",
     "iopub.status.idle": "2022-03-07T01:26:08.591201Z",
     "shell.execute_reply": "2022-03-07T01:26:08.591899Z",
     "shell.execute_reply.started": "2022-03-07T01:22:02.337060Z"
    },
    "papermill": {
     "duration": 0.030166,
     "end_time": "2022-03-07T01:26:08.592103",
     "exception": false,
     "start_time": "2022-03-07T01:26:08.561937",
     "status": "completed"
    },
    "tags": []
   },
   "outputs": [],
   "source": [
    "target_id_map = {\n",
    "    \"B-Lead\": 0,\n",
    "    \"I-Lead\": 1,\n",
    "    \"B-Position\": 2,\n",
    "    \"I-Position\": 3,\n",
    "    \"B-Evidence\": 4,\n",
    "    \"I-Evidence\": 5,\n",
    "    \"B-Claim\": 6,\n",
    "    \"I-Claim\": 7,\n",
    "    \"B-Concluding Statement\": 8,\n",
    "    \"I-Concluding Statement\": 9,\n",
    "    \"B-Counterclaim\": 10,\n",
    "    \"I-Counterclaim\": 11,\n",
    "    \"B-Rebuttal\": 12,\n",
    "    \"I-Rebuttal\": 13,\n",
    "    \"O\": 14,\n",
    "    \"PAD\": -100,\n",
    "}\n",
    "\n",
    "\n",
    "id_target_map = {v: k for k, v in target_id_map.items()}\n",
    "\n",
    "class args1:\n",
    "    input_path = \"../input/feedback-prize-2021/\"\n",
    "    model = \"../input/longformerlarge4096/longformer-large-4096/\"\n",
    "    tez_model= \"../input/fblongformerlarge1536/\"\n",
    "    output = \".\"\n",
    "    batch_size = 8\n",
    "    max_len = 4096\n",
    "    \n",
    "class args2:\n",
    "    input_path = \"../input/feedback-prize-2021/\"\n",
    "    model = \"../input/longformerlarge4096/longformer-large-4096/\"\n",
    "    tez_model= \"../input/tez-fb-large/\"\n",
    "    output = \".\"\n",
    "    batch_size = 8\n",
    "    max_len = 4096\n",
    "    \n",
    "class args3:\n",
    "    input_path = \"../input/feedback-prize-2021/\"\n",
    "    model = \"../input/longformerlarge4096/longformer-large-4096/\"\n",
    "    tez_model= \"../input/tez-fb-large/\"\n",
    "    output = \".\"\n",
    "    batch_size = 16\n",
    "    max_len = 2048"
   ]
  },
  {
   "cell_type": "code",
   "execution_count": 3,
   "id": "da1145b7",
   "metadata": {
    "execution": {
     "iopub.execute_input": "2022-03-07T01:26:08.633661Z",
     "iopub.status.busy": "2022-03-07T01:26:08.632900Z",
     "iopub.status.idle": "2022-03-07T01:26:08.636779Z",
     "shell.execute_reply": "2022-03-07T01:26:08.637456Z",
     "shell.execute_reply.started": "2022-03-07T01:22:02.351356Z"
    },
    "papermill": {
     "duration": 0.029462,
     "end_time": "2022-03-07T01:26:08.637652",
     "exception": false,
     "start_time": "2022-03-07T01:26:08.608190",
     "status": "completed"
    },
    "tags": []
   },
   "outputs": [],
   "source": [
    "class FeedbackDataset:\n",
    "    def __init__(self, samples, max_len, tokenizer):\n",
    "        self.samples = samples\n",
    "        self.max_len = max_len\n",
    "        self.tokenizer = tokenizer\n",
    "        self.length = len(samples)\n",
    "\n",
    "    def __len__(self):\n",
    "        return self.length\n",
    "\n",
    "    def __getitem__(self, idx):\n",
    "        input_ids = self.samples[idx][\"input_ids\"]\n",
    "        # print(input_ids)\n",
    "        # print(input_labels)\n",
    "\n",
    "        # add start token id to the input_ids\n",
    "        input_ids = [self.tokenizer.cls_token_id] + input_ids\n",
    "\n",
    "        if len(input_ids) > self.max_len - 1:\n",
    "            input_ids = input_ids[: self.max_len - 1]\n",
    "\n",
    "        # add end token id to the input_ids\n",
    "        input_ids = input_ids + [self.tokenizer.sep_token_id]\n",
    "        attention_mask = [1] * len(input_ids)\n",
    "\n",
    "        return {\n",
    "            \"ids\": input_ids,\n",
    "            \"mask\": attention_mask,\n",
    "        }"
   ]
  },
  {
   "cell_type": "code",
   "execution_count": 4,
   "id": "d5d0ec7b",
   "metadata": {
    "execution": {
     "iopub.execute_input": "2022-03-07T01:26:08.686514Z",
     "iopub.status.busy": "2022-03-07T01:26:08.685108Z",
     "iopub.status.idle": "2022-03-07T01:26:08.687205Z",
     "shell.execute_reply": "2022-03-07T01:26:08.685794Z",
     "shell.execute_reply.started": "2022-03-07T01:22:02.362006Z"
    },
    "papermill": {
     "duration": 0.033587,
     "end_time": "2022-03-07T01:26:08.687358",
     "exception": false,
     "start_time": "2022-03-07T01:26:08.653771",
     "status": "completed"
    },
    "tags": []
   },
   "outputs": [],
   "source": [
    "class Collate:\n",
    "    def __init__(self, tokenizer):\n",
    "        self.tokenizer = tokenizer\n",
    "\n",
    "    def __call__(self, batch):\n",
    "        output = dict()\n",
    "        output[\"ids\"] = [sample[\"ids\"] for sample in batch]\n",
    "        output[\"mask\"] = [sample[\"mask\"] for sample in batch]\n",
    "\n",
    "        # calculate max token length of this batch\n",
    "        batch_max = max([len(ids) for ids in output[\"ids\"]])\n",
    "\n",
    "        # add padding\n",
    "        if self.tokenizer.padding_side == \"right\":\n",
    "            output[\"ids\"] = [s + (batch_max - len(s)) * [self.tokenizer.pad_token_id] for s in output[\"ids\"]]\n",
    "            output[\"mask\"] = [s + (batch_max - len(s)) * [0] for s in output[\"mask\"]]\n",
    "        else:\n",
    "            output[\"ids\"] = [(batch_max - len(s)) * [self.tokenizer.pad_token_id] + s for s in output[\"ids\"]]\n",
    "            output[\"mask\"] = [(batch_max - len(s)) * [0] + s for s in output[\"mask\"]]\n",
    "\n",
    "        # convert to tensors\n",
    "        output[\"ids\"] = torch.tensor(output[\"ids\"], dtype=torch.long)\n",
    "        output[\"mask\"] = torch.tensor(output[\"mask\"], dtype=torch.long)\n",
    "\n",
    "        return output"
   ]
  },
  {
   "cell_type": "code",
   "execution_count": 5,
   "id": "526a0903",
   "metadata": {
    "execution": {
     "iopub.execute_input": "2022-03-07T01:26:08.729460Z",
     "iopub.status.busy": "2022-03-07T01:26:08.728701Z",
     "iopub.status.idle": "2022-03-07T01:26:08.732289Z",
     "shell.execute_reply": "2022-03-07T01:26:08.733224Z",
     "shell.execute_reply.started": "2022-03-07T01:22:02.377256Z"
    },
    "papermill": {
     "duration": 0.030332,
     "end_time": "2022-03-07T01:26:08.733408",
     "exception": false,
     "start_time": "2022-03-07T01:26:08.703076",
     "status": "completed"
    },
    "tags": []
   },
   "outputs": [],
   "source": [
    "class FeedbackModel(tez.Model):\n",
    "    def __init__(self, model_name, num_labels, layer_norm_eps):\n",
    "        super().__init__()\n",
    "        self.model_name = model_name\n",
    "        self.num_labels = num_labels\n",
    "        self.layer_norm_eps: float = layer_norm_eps\n",
    "        config = AutoConfig.from_pretrained(model_name)\n",
    "\n",
    "        hidden_dropout_prob: float = 0.2\n",
    "#         layer_norm_eps: float = 17589e-7\n",
    "#         self.layer_norm_eps: float = 18500e-7\n",
    "\n",
    "        config.update(\n",
    "            {\n",
    "                \"output_hidden_states\": True,\n",
    "                \"hidden_dropout_prob\": hidden_dropout_prob,\n",
    "                \"layer_norm_eps\": layer_norm_eps,\n",
    "                \"add_pooling_layer\": False,\n",
    "            }\n",
    "        )\n",
    "        self.transformer = AutoModel.from_config(config)\n",
    "        self.output = nn.Linear(config.hidden_size, self.num_labels)\n",
    "\n",
    "    def forward(self, ids, mask):\n",
    "        transformer_out = self.transformer(ids, mask)\n",
    "        sequence_output = transformer_out.last_hidden_state\n",
    "        logits = self.output(sequence_output)\n",
    "        logits = torch.softmax(logits, dim=-1)\n",
    "        return logits, 0, {}"
   ]
  },
  {
   "cell_type": "code",
   "execution_count": 6,
   "id": "a0e71d6f",
   "metadata": {
    "execution": {
     "iopub.execute_input": "2022-03-07T01:26:08.775679Z",
     "iopub.status.busy": "2022-03-07T01:26:08.774917Z",
     "iopub.status.idle": "2022-03-07T01:26:08.779185Z",
     "shell.execute_reply": "2022-03-07T01:26:08.780132Z",
     "shell.execute_reply.started": "2022-03-07T01:22:02.446896Z"
    },
    "papermill": {
     "duration": 0.030789,
     "end_time": "2022-03-07T01:26:08.780310",
     "exception": false,
     "start_time": "2022-03-07T01:26:08.749521",
     "status": "completed"
    },
    "tags": []
   },
   "outputs": [],
   "source": [
    "def _prepare_test_data_helper(args, tokenizer, ids):\n",
    "    test_samples = []\n",
    "    for idx in ids:\n",
    "        filename = os.path.join(args.input_path, \"test\", idx + \".txt\")\n",
    "        with open(filename, \"r\") as f:\n",
    "            text = f.read()\n",
    "\n",
    "        encoded_text = tokenizer.encode_plus(\n",
    "            text,\n",
    "            add_special_tokens=False,\n",
    "            return_offsets_mapping=True,\n",
    "        )\n",
    "        input_ids = encoded_text[\"input_ids\"]\n",
    "        offset_mapping = encoded_text[\"offset_mapping\"]\n",
    "\n",
    "        sample = {\n",
    "            \"id\": idx,\n",
    "            \"input_ids\": input_ids,\n",
    "            \"text\": text,\n",
    "            \"offset_mapping\": offset_mapping,\n",
    "        }\n",
    "\n",
    "        test_samples.append(sample)\n",
    "    return test_samples\n",
    "\n",
    "\n",
    "def prepare_test_data(df, tokenizer, args):\n",
    "    test_samples = []\n",
    "    ids = df[\"id\"].unique()\n",
    "    ids_splits = np.array_split(ids, 4)\n",
    "\n",
    "    results = Parallel(n_jobs=4, backend=\"multiprocessing\")(\n",
    "        delayed(_prepare_test_data_helper)(args, tokenizer, idx) for idx in ids_splits\n",
    "    )\n",
    "    for result in results:\n",
    "        test_samples.extend(result)\n",
    "\n",
    "    return test_samples"
   ]
  },
  {
   "cell_type": "code",
   "execution_count": 7,
   "id": "56d266ca",
   "metadata": {
    "execution": {
     "iopub.execute_input": "2022-03-07T01:26:08.823006Z",
     "iopub.status.busy": "2022-03-07T01:26:08.822209Z",
     "iopub.status.idle": "2022-03-07T01:29:37.771416Z",
     "shell.execute_reply": "2022-03-07T01:29:37.770916Z",
     "shell.execute_reply.started": "2022-03-07T01:22:04.895246Z"
    },
    "papermill": {
     "duration": 208.975183,
     "end_time": "2022-03-07T01:29:37.771552",
     "exception": false,
     "start_time": "2022-03-07T01:26:08.796369",
     "status": "completed"
    },
    "tags": []
   },
   "outputs": [
    {
     "name": "stdout",
     "output_type": "stream",
     "text": [
      "0\n",
      "model_0.bin\n"
     ]
    },
    {
     "name": "stderr",
     "output_type": "stream",
     "text": [
      "100%|██████████| 1/1 [00:02<00:00,  2.61s/it, stage=test]\n"
     ]
    },
    {
     "name": "stdout",
     "output_type": "stream",
     "text": [
      "1\n",
      "model_1.bin\n"
     ]
    },
    {
     "name": "stderr",
     "output_type": "stream",
     "text": [
      "100%|██████████| 1/1 [00:01<00:00,  1.52s/it, stage=test]\n"
     ]
    },
    {
     "name": "stdout",
     "output_type": "stream",
     "text": [
      "2\n",
      "model_2.bin\n"
     ]
    },
    {
     "name": "stderr",
     "output_type": "stream",
     "text": [
      "100%|██████████| 1/1 [00:01<00:00,  1.51s/it, stage=test]\n"
     ]
    },
    {
     "name": "stdout",
     "output_type": "stream",
     "text": [
      "3\n",
      "model_3.bin\n"
     ]
    },
    {
     "name": "stderr",
     "output_type": "stream",
     "text": [
      "100%|██████████| 1/1 [00:01<00:00,  1.61s/it, stage=test]\n"
     ]
    },
    {
     "name": "stdout",
     "output_type": "stream",
     "text": [
      "4\n",
      "model_4.bin\n"
     ]
    },
    {
     "name": "stderr",
     "output_type": "stream",
     "text": [
      "100%|██████████| 1/1 [00:01<00:00,  1.63s/it, stage=test]\n"
     ]
    },
    {
     "name": "stdout",
     "output_type": "stream",
     "text": [
      "5\n",
      "model_5.bin\n"
     ]
    },
    {
     "name": "stderr",
     "output_type": "stream",
     "text": [
      "100%|██████████| 1/1 [00:01<00:00,  1.60s/it, stage=test]\n"
     ]
    },
    {
     "name": "stdout",
     "output_type": "stream",
     "text": [
      "6\n",
      "model_6.bin\n"
     ]
    },
    {
     "name": "stderr",
     "output_type": "stream",
     "text": [
      "100%|██████████| 1/1 [00:01<00:00,  1.56s/it, stage=test]\n"
     ]
    },
    {
     "name": "stdout",
     "output_type": "stream",
     "text": [
      "7\n",
      "model_7.bin\n"
     ]
    },
    {
     "name": "stderr",
     "output_type": "stream",
     "text": [
      "100%|██████████| 1/1 [00:01<00:00,  1.57s/it, stage=test]\n"
     ]
    },
    {
     "name": "stdout",
     "output_type": "stream",
     "text": [
      "8\n",
      "model_8.bin\n"
     ]
    },
    {
     "name": "stderr",
     "output_type": "stream",
     "text": [
      "100%|██████████| 1/1 [00:01<00:00,  1.55s/it, stage=test]\n"
     ]
    },
    {
     "name": "stdout",
     "output_type": "stream",
     "text": [
      "9\n",
      "model_9.bin\n"
     ]
    },
    {
     "name": "stderr",
     "output_type": "stream",
     "text": [
      "100%|██████████| 1/1 [00:01<00:00,  1.56s/it, stage=test]\n"
     ]
    }
   ],
   "source": [
    "df = pd.read_csv(os.path.join(\"../input/feedback-prize-2021/\", \"sample_submission.csv\"))\n",
    "df_ids = df[\"id\"].unique()\n",
    "\n",
    "# tokenizer = AutoTokenizer.from_pretrained(args1.model)\n",
    "# test_samples = prepare_test_data(df, tokenizer, args1)\n",
    "# collate = Collate(tokenizer=tokenizer)\n",
    "\n",
    "tokenizer = AutoTokenizer.from_pretrained(args3.model)\n",
    "test_samples = prepare_test_data(df, tokenizer, args1)\n",
    "collate = Collate(tokenizer=tokenizer)\n",
    "\n",
    "raw_preds = []\n",
    "for fold_ in range(10):\n",
    "    current_idx = 0\n",
    "    test_dataset = FeedbackDataset(test_samples, args1.max_len, tokenizer)\n",
    "    print(fold_)\n",
    "    \n",
    "    if fold_ < 4:\n",
    "        model = FeedbackModel(model_name=args1.model, num_labels=len(target_id_map) - 1, layer_norm_eps = 17589e-7)\n",
    "        model.load(os.path.join(args1.tez_model, f\"model_{fold_}.bin\"), weights_only=True)\n",
    "        preds_iter = model.predict(test_dataset, batch_size=args1.batch_size, n_jobs=-1, collate_fn=collate)\n",
    "    elif 4<=fold_<7:\n",
    "        model = FeedbackModel(model_name=args2.model, num_labels=len(target_id_map) - 1, layer_norm_eps = 17589e-7)\n",
    "        model.load(os.path.join(args2.tez_model, f\"model_{fold_-4}.bin\"), weights_only=True)\n",
    "        preds_iter = model.predict(test_dataset, batch_size=args2.batch_size, n_jobs=-1, collate_fn=collate)\n",
    "    else:\n",
    "        model = FeedbackModel(model_name=args3.model, num_labels=len(target_id_map) - 1, layer_norm_eps = 1e-7)\n",
    "        model.load(os.path.join(args3.tez_model, f\"model_{fold_-7}.bin\"), weights_only=True)\n",
    "        preds_iter = model.predict(test_dataset, batch_size=args3.batch_size, n_jobs=-1, collate_fn=collate)\n",
    "    print(f\"model_{fold_}.bin\")\n",
    "        \n",
    "    current_idx = 0\n",
    "    \n",
    "    for preds in preds_iter:\n",
    "        preds = preds.astype(np.float16)\n",
    "        preds = preds / 10\n",
    "        if fold_ == 0:\n",
    "            raw_preds.append(preds)\n",
    "        else:\n",
    "            raw_preds[current_idx] += preds\n",
    "            current_idx += 1\n",
    "    torch.cuda.empty_cache()\n",
    "    gc.collect()"
   ]
  },
  {
   "cell_type": "code",
   "execution_count": 8,
   "id": "f76b3686",
   "metadata": {
    "execution": {
     "iopub.execute_input": "2022-03-07T01:29:37.837376Z",
     "iopub.status.busy": "2022-03-07T01:29:37.836651Z",
     "iopub.status.idle": "2022-03-07T01:29:37.842587Z",
     "shell.execute_reply": "2022-03-07T01:29:37.842127Z",
     "shell.execute_reply.started": "2022-03-07T01:25:19.953269Z"
    },
    "papermill": {
     "duration": 0.042261,
     "end_time": "2022-03-07T01:29:37.842697",
     "exception": false,
     "start_time": "2022-03-07T01:29:37.800436",
     "status": "completed"
    },
    "tags": []
   },
   "outputs": [],
   "source": [
    "final_preds = []\n",
    "final_scores = []\n",
    "\n",
    "for rp in raw_preds:\n",
    "    pred_class = np.argmax(rp, axis=2)\n",
    "    pred_scrs = np.max(rp, axis=2)\n",
    "    for pred, pred_scr in zip(pred_class, pred_scrs):\n",
    "        pred = pred.tolist()\n",
    "        pred_scr = pred_scr.tolist()\n",
    "        final_preds.append(pred)\n",
    "        final_scores.append(pred_scr)\n",
    "\n",
    "for j in range(len(test_samples)):\n",
    "    tt = [id_target_map[p] for p in final_preds[j][1:]]\n",
    "    tt_score = final_scores[j][1:]\n",
    "    test_samples[j][\"preds\"] = tt\n",
    "    test_samples[j][\"pred_scores\"] = tt_score"
   ]
  },
  {
   "cell_type": "code",
   "execution_count": 9,
   "id": "6124691b",
   "metadata": {
    "execution": {
     "iopub.execute_input": "2022-03-07T01:29:37.911166Z",
     "iopub.status.busy": "2022-03-07T01:29:37.906263Z",
     "iopub.status.idle": "2022-03-07T01:29:37.913097Z",
     "shell.execute_reply": "2022-03-07T01:29:37.913568Z",
     "shell.execute_reply.started": "2022-03-07T01:25:19.973265Z"
    },
    "papermill": {
     "duration": 0.042584,
     "end_time": "2022-03-07T01:29:37.913691",
     "exception": false,
     "start_time": "2022-03-07T01:29:37.871107",
     "status": "completed"
    },
    "tags": []
   },
   "outputs": [],
   "source": [
    "def jn(pst, start, end):\n",
    "    return \" \".join([str(x) for x in pst[start:end]])\n",
    "\n",
    "\n",
    "def link_evidence(oof):\n",
    "    thresh = 1\n",
    "    idu = oof['id'].unique()\n",
    "    idc = idu[1]\n",
    "    eoof = oof[oof['class'] == \"Evidence\"]\n",
    "    neoof = oof[oof['class'] != \"Evidence\"]\n",
    "    for thresh2 in range(26,27, 1):\n",
    "        retval = []\n",
    "        for idv in idu:\n",
    "            for c in  ['Lead', 'Position', 'Evidence', 'Claim', 'Concluding Statement',\n",
    "                   'Counterclaim', 'Rebuttal']:\n",
    "                q = eoof[(eoof['id'] == idv) & (eoof['class'] == c)]\n",
    "                if len(q) == 0:\n",
    "                    continue\n",
    "                pst = []\n",
    "                for i,r in q.iterrows():\n",
    "                    pst = pst +[-1] + [int(x) for x in r['predictionstring'].split()]\n",
    "                start = 1\n",
    "                end = 1\n",
    "                for i in range(2,len(pst)):\n",
    "                    cur = pst[i]\n",
    "                    end = i\n",
    "                    #if pst[start] == 205:\n",
    "                    #   print(cur, pst[start], cur - pst[start])\n",
    "                    if (cur == -1 and c != 'Evidence') or ((cur == -1) and ((pst[i+1] > pst[end-1] + thresh) or (pst[i+1] - pst[start] > thresh2))):\n",
    "                        retval.append((idv, c, jn(pst, start, end)))\n",
    "                        start = i + 1\n",
    "                v = (idv, c, jn(pst, start, end+1))\n",
    "                #print(v)\n",
    "                retval.append(v)\n",
    "        roof = pd.DataFrame(retval, columns = ['id', 'class', 'predictionstring']) \n",
    "        roof = roof.merge(neoof, how='outer')\n",
    "        return roof\n",
    "    "
   ]
  },
  {
   "cell_type": "code",
   "execution_count": 10,
   "id": "c1687a99",
   "metadata": {
    "execution": {
     "iopub.execute_input": "2022-03-07T01:29:38.047840Z",
     "iopub.status.busy": "2022-03-07T01:29:37.987999Z",
     "iopub.status.idle": "2022-03-07T01:29:38.055699Z",
     "shell.execute_reply": "2022-03-07T01:29:38.055217Z",
     "shell.execute_reply.started": "2022-03-07T01:25:19.989196Z"
    },
    "papermill": {
     "duration": 0.113737,
     "end_time": "2022-03-07T01:29:38.055808",
     "exception": false,
     "start_time": "2022-03-07T01:29:37.942071",
     "status": "completed"
    },
    "tags": []
   },
   "outputs": [],
   "source": [
    "proba_thresh = {\n",
    "    \"Lead\": 0.687,\n",
    "    \"Position\": 0.537,\n",
    "    \"Evidence\": 0.637,\n",
    "    \"Claim\": 0.537,\n",
    "    \"Concluding Statement\": 0.687,\n",
    "    \"Counterclaim\": 0.537,\n",
    "    \"Rebuttal\": 0.537,\n",
    "}\n",
    "\n",
    "min_thresh = {\n",
    "    \"Lead\": 9,\n",
    "    \"Position\": 5,\n",
    "    \"Evidence\": 14,\n",
    "    \"Claim\": 3,\n",
    "    \"Concluding Statement\": 11,\n",
    "    \"Counterclaim\": 6,\n",
    "    \"Rebuttal\": 4,\n",
    "}\n",
    "\n",
    "submission = []\n",
    "for sample_idx, sample in enumerate(test_samples):\n",
    "    preds = sample[\"preds\"]\n",
    "    offset_mapping = sample[\"offset_mapping\"]\n",
    "    sample_id = sample[\"id\"]\n",
    "    sample_text = sample[\"text\"]\n",
    "    sample_input_ids = sample[\"input_ids\"]\n",
    "    sample_pred_scores = sample[\"pred_scores\"]\n",
    "    sample_preds = []\n",
    "\n",
    "    if len(preds) < len(offset_mapping):\n",
    "        preds = preds + [\"O\"] * (len(offset_mapping) - len(preds))\n",
    "        sample_pred_scores = sample_pred_scores + [0] * (len(offset_mapping) - len(sample_pred_scores))\n",
    "    \n",
    "    idx = 0\n",
    "    phrase_preds = []\n",
    "    while idx < len(offset_mapping):\n",
    "        start, _ = offset_mapping[idx]\n",
    "        if preds[idx] != \"O\":\n",
    "            label = preds[idx][2:]\n",
    "        else:\n",
    "            label = \"O\"\n",
    "        phrase_scores = []\n",
    "        phrase_scores.append(sample_pred_scores[idx])\n",
    "        idx += 1\n",
    "        while idx < len(offset_mapping):\n",
    "            if label == \"O\":\n",
    "                matching_label = \"O\"\n",
    "            else:\n",
    "                matching_label = f\"I-{label}\"\n",
    "            if preds[idx] == matching_label:\n",
    "                _, end = offset_mapping[idx]\n",
    "                phrase_scores.append(sample_pred_scores[idx])\n",
    "                idx += 1\n",
    "            else:\n",
    "                break\n",
    "        if \"end\" in locals():\n",
    "            phrase = sample_text[start:end]\n",
    "            phrase_preds.append((phrase, start, end, label, phrase_scores))\n",
    "\n",
    "    temp_df = []\n",
    "    for phrase_idx, (phrase, start, end, label, phrase_scores) in enumerate(phrase_preds):\n",
    "        word_start = len(sample_text[:start].split())\n",
    "        word_end = word_start + len(sample_text[start:end].split())\n",
    "        word_end = min(word_end, len(sample_text.split()))\n",
    "        ps = \" \".join([str(x) for x in range(word_start, word_end)])\n",
    "        if label != \"O\":\n",
    "            if sum(phrase_scores) / len(phrase_scores) >= proba_thresh[label]:\n",
    "                if len(ps.split()) >= min_thresh[label]:\n",
    "                    temp_df.append((sample_id, label, ps))\n",
    "    \n",
    "    temp_df = pd.DataFrame(temp_df, columns=[\"id\", \"class\", \"predictionstring\"])\n",
    "    submission.append(temp_df)\n",
    "\n",
    "submission = pd.concat(submission).reset_index(drop=True)\n",
    "submission = link_evidence(submission)\n",
    "submission.to_csv(\"submission.csv\", index=False)"
   ]
  },
  {
   "cell_type": "code",
   "execution_count": 11,
   "id": "f92b5d2e",
   "metadata": {
    "execution": {
     "iopub.execute_input": "2022-03-07T01:29:38.118111Z",
     "iopub.status.busy": "2022-03-07T01:29:38.117338Z",
     "iopub.status.idle": "2022-03-07T01:29:38.127502Z",
     "shell.execute_reply": "2022-03-07T01:29:38.127995Z",
     "shell.execute_reply.started": "2022-03-07T01:25:27.808022Z"
    },
    "papermill": {
     "duration": 0.043927,
     "end_time": "2022-03-07T01:29:38.128116",
     "exception": false,
     "start_time": "2022-03-07T01:29:38.084189",
     "status": "completed"
    },
    "tags": []
   },
   "outputs": [
    {
     "data": {
      "text/html": [
       "<div>\n",
       "<style scoped>\n",
       "    .dataframe tbody tr th:only-of-type {\n",
       "        vertical-align: middle;\n",
       "    }\n",
       "\n",
       "    .dataframe tbody tr th {\n",
       "        vertical-align: top;\n",
       "    }\n",
       "\n",
       "    .dataframe thead th {\n",
       "        text-align: right;\n",
       "    }\n",
       "</style>\n",
       "<table border=\"1\" class=\"dataframe\">\n",
       "  <thead>\n",
       "    <tr style=\"text-align: right;\">\n",
       "      <th></th>\n",
       "      <th>id</th>\n",
       "      <th>class</th>\n",
       "      <th>predictionstring</th>\n",
       "    </tr>\n",
       "  </thead>\n",
       "  <tbody>\n",
       "    <tr>\n",
       "      <th>0</th>\n",
       "      <td>18409261F5C2</td>\n",
       "      <td>Evidence</td>\n",
       "      <td>162 163 164 165 166 167 168 169 170 171 172 17...</td>\n",
       "    </tr>\n",
       "    <tr>\n",
       "      <th>1</th>\n",
       "      <td>18409261F5C2</td>\n",
       "      <td>Evidence</td>\n",
       "      <td>441 442 443 444 445 446 447 448 449 450 451 45...</td>\n",
       "    </tr>\n",
       "    <tr>\n",
       "      <th>2</th>\n",
       "      <td>18409261F5C2</td>\n",
       "      <td>Evidence</td>\n",
       "      <td>739 740 741 742 743 744 745 746 747 748 749 75...</td>\n",
       "    </tr>\n",
       "    <tr>\n",
       "      <th>3</th>\n",
       "      <td>D46BCB48440A</td>\n",
       "      <td>Evidence</td>\n",
       "      <td>56 57 58 59 60 61 62 63 64 65 66 67 68 69 70 7...</td>\n",
       "    </tr>\n",
       "    <tr>\n",
       "      <th>4</th>\n",
       "      <td>D46BCB48440A</td>\n",
       "      <td>Evidence</td>\n",
       "      <td>150 151 152 153 154 155 156 157 158 159 160 16...</td>\n",
       "    </tr>\n",
       "  </tbody>\n",
       "</table>\n",
       "</div>"
      ],
      "text/plain": [
       "             id     class                                   predictionstring\n",
       "0  18409261F5C2  Evidence  162 163 164 165 166 167 168 169 170 171 172 17...\n",
       "1  18409261F5C2  Evidence  441 442 443 444 445 446 447 448 449 450 451 45...\n",
       "2  18409261F5C2  Evidence  739 740 741 742 743 744 745 746 747 748 749 75...\n",
       "3  D46BCB48440A  Evidence  56 57 58 59 60 61 62 63 64 65 66 67 68 69 70 7...\n",
       "4  D46BCB48440A  Evidence  150 151 152 153 154 155 156 157 158 159 160 16..."
      ]
     },
     "execution_count": 11,
     "metadata": {},
     "output_type": "execute_result"
    }
   ],
   "source": [
    "submission.head()"
   ]
  }
 ],
 "metadata": {
  "kernelspec": {
   "display_name": "Python 3",
   "language": "python",
   "name": "python3"
  },
  "language_info": {
   "codemirror_mode": {
    "name": "ipython",
    "version": 3
   },
   "file_extension": ".py",
   "mimetype": "text/x-python",
   "name": "python",
   "nbconvert_exporter": "python",
   "pygments_lexer": "ipython3",
   "version": "3.7.12"
  },
  "papermill": {
   "default_parameters": {},
   "duration": 228.447969,
   "end_time": "2022-03-07T01:29:41.802665",
   "environment_variables": {},
   "exception": null,
   "input_path": "__notebook__.ipynb",
   "output_path": "__notebook__.ipynb",
   "parameters": {},
   "start_time": "2022-03-07T01:25:53.354696",
   "version": "2.3.3"
  }
 },
 "nbformat": 4,
 "nbformat_minor": 5
}
